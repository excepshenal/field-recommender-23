{
 "cells": [
  {
   "cell_type": "markdown",
   "metadata": {},
   "source": [
    "# Bayesian Personalized Ranking (BPR)"
   ]
  },
  {
   "cell_type": "markdown",
   "metadata": {},
   "source": [
    "## Global Settings and Imports"
   ]
  },
  {
   "cell_type": "code",
   "execution_count": 1,
   "metadata": {},
   "outputs": [
    {
     "name": "stderr",
     "output_type": "stream",
     "text": [
      "/Users/DanielShen/opt/anaconda3/envs/microsoft_rec/lib/python3.8/site-packages/tqdm/auto.py:21: TqdmWarning: IProgress not found. Please update jupyter and ipywidgets. See https://ipywidgets.readthedocs.io/en/stable/user_install.html\n",
      "  from .autonotebook import tqdm as notebook_tqdm\n"
     ]
    },
    {
     "name": "stdout",
     "output_type": "stream",
     "text": [
      "FM model is only supported on Linux.\n",
      "Windows executable can be found at http://www.libfm.org.\n",
      "System version: 3.8.17 (default, Jul  5 2023, 16:18:40) \n",
      "[Clang 14.0.6 ]\n",
      "Cornac version: 1.15.4\n"
     ]
    }
   ],
   "source": [
    "import sys\n",
    "import os\n",
    "import cornac\n",
    "import pandas as pd\n",
    "import numpy as np\n",
    "from recommenders.datasets.python_splitters import python_random_split\n",
    "from recommenders.evaluation.python_evaluation import map_at_k, ndcg_at_k, precision_at_k, recall_at_k\n",
    "from recommenders.models.cornac.cornac_utils import predict_ranking\n",
    "from recommenders.utils.timer import Timer\n",
    "\n",
    "print(\"System version: {}\".format(sys.version))\n",
    "print(\"Cornac version: {}\".format(cornac.__version__))"
   ]
  },
  {
   "cell_type": "code",
   "execution_count": 2,
   "metadata": {
    "tags": [
     "parameters"
    ]
   },
   "outputs": [],
   "source": [
    "SEEDS = range(5)\n",
    "\n",
    "DATA_FILE_NAME = \"../Data/20230721T041206_sales_2023_basic_single_events_removed.csv\"\n",
    "#DATA_FILE_NAME = \"../Data/20230721T235400_sales_24mo_basic_single_events_removed.csv\"\n",
    "\n",
    "# country\n",
    "COUNTRY = \"nigeria\"\n",
    "\n",
    "# top k items to recommend\n",
    "TOP_K = 10\n",
    "\n",
    "# fraction of location_skus to include in training dataset\n",
    "TRAIN_FRAC = 0.75\n",
    "\n",
    "# Model parameters\n",
    "NUM_FACTORS = 200\n",
    "NUM_EPOCHS = 100\n",
    "LEARNING_RATE = 0.01\n",
    "LAMBDA_REG = 0.001"
   ]
  },
  {
   "cell_type": "markdown",
   "metadata": {},
   "source": [
    "## Engine"
   ]
  },
  {
   "cell_type": "code",
   "execution_count": 3,
   "metadata": {},
   "outputs": [
    {
     "name": "stderr",
     "output_type": "stream",
     "text": [
      "/Users/DanielShen/opt/anaconda3/envs/microsoft_rec/lib/python3.8/site-packages/cornac/data/dataset.py:361: UserWarning: 27 duplicated observations are removed!\n",
      "  warnings.warn(\"%d duplicated observations are removed!\" % dup_count)\n"
     ]
    },
    {
     "name": "stdout",
     "output_type": "stream",
     "text": [
      "Run 1 of 5\n"
     ]
    },
    {
     "name": "stderr",
     "output_type": "stream",
     "text": [
      "100%|██████████| 100/100 [00:00<00:00, 132.44it/s, correct=92.73%, skipped=9.18%]\n"
     ]
    },
    {
     "name": "stdout",
     "output_type": "stream",
     "text": [
      "Optimization finished!\n",
      "Took 0.7819 seconds for training.\n",
      "Took 0.3814 seconds for prediction.\n"
     ]
    },
    {
     "name": "stderr",
     "output_type": "stream",
     "text": [
      "/Users/DanielShen/opt/anaconda3/envs/microsoft_rec/lib/python3.8/site-packages/cornac/data/dataset.py:361: UserWarning: 32 duplicated observations are removed!\n",
      "  warnings.warn(\"%d duplicated observations are removed!\" % dup_count)\n"
     ]
    },
    {
     "name": "stdout",
     "output_type": "stream",
     "text": [
      "Run 2 of 5\n"
     ]
    },
    {
     "name": "stderr",
     "output_type": "stream",
     "text": [
      "100%|██████████| 100/100 [00:00<00:00, 124.46it/s, correct=92.94%, skipped=9.43%]\n"
     ]
    },
    {
     "name": "stdout",
     "output_type": "stream",
     "text": [
      "Optimization finished!\n",
      "Took 0.8120 seconds for training.\n",
      "Took 0.3302 seconds for prediction.\n"
     ]
    },
    {
     "name": "stderr",
     "output_type": "stream",
     "text": [
      "/Users/DanielShen/opt/anaconda3/envs/microsoft_rec/lib/python3.8/site-packages/cornac/data/dataset.py:361: UserWarning: 24 duplicated observations are removed!\n",
      "  warnings.warn(\"%d duplicated observations are removed!\" % dup_count)\n"
     ]
    },
    {
     "name": "stdout",
     "output_type": "stream",
     "text": [
      "Run 3 of 5\n"
     ]
    },
    {
     "name": "stderr",
     "output_type": "stream",
     "text": [
      "100%|██████████| 100/100 [00:00<00:00, 132.28it/s, correct=92.60%, skipped=8.87%]\n"
     ]
    },
    {
     "name": "stdout",
     "output_type": "stream",
     "text": [
      "Optimization finished!\n",
      "Took 0.7632 seconds for training.\n",
      "Took 0.3130 seconds for prediction.\n"
     ]
    },
    {
     "name": "stderr",
     "output_type": "stream",
     "text": [
      "/Users/DanielShen/opt/anaconda3/envs/microsoft_rec/lib/python3.8/site-packages/cornac/data/dataset.py:361: UserWarning: 31 duplicated observations are removed!\n",
      "  warnings.warn(\"%d duplicated observations are removed!\" % dup_count)\n"
     ]
    },
    {
     "name": "stdout",
     "output_type": "stream",
     "text": [
      "Run 4 of 5\n"
     ]
    },
    {
     "name": "stderr",
     "output_type": "stream",
     "text": [
      "100%|██████████| 100/100 [00:00<00:00, 137.72it/s, correct=92.74%, skipped=9.13%]\n"
     ]
    },
    {
     "name": "stdout",
     "output_type": "stream",
     "text": [
      "Optimization finished!\n",
      "Took 0.7333 seconds for training.\n",
      "Took 0.3001 seconds for prediction.\n"
     ]
    },
    {
     "name": "stderr",
     "output_type": "stream",
     "text": [
      "/Users/DanielShen/opt/anaconda3/envs/microsoft_rec/lib/python3.8/site-packages/cornac/data/dataset.py:361: UserWarning: 23 duplicated observations are removed!\n",
      "  warnings.warn(\"%d duplicated observations are removed!\" % dup_count)\n"
     ]
    },
    {
     "name": "stdout",
     "output_type": "stream",
     "text": [
      "Run 5 of 5\n"
     ]
    },
    {
     "name": "stderr",
     "output_type": "stream",
     "text": [
      "100%|██████████| 100/100 [00:00<00:00, 131.96it/s, correct=92.67%, skipped=9.28%]\n"
     ]
    },
    {
     "name": "stdout",
     "output_type": "stream",
     "text": [
      "Optimization finished!\n",
      "Took 0.7669 seconds for training.\n",
      "Took 0.3128 seconds for prediction.\n",
      "\n",
      "MAP: {0: 0.0546, 1: 0.0535, 2: 0.0529, 3: 0.0562, 4: 0.0544}\n",
      "NDCG: {0: 0.306, 1: 0.2987, 2: 0.2954, 3: 0.3047, 4: 0.2982}\n",
      "Precision@K: {0: 0.2926, 1: 0.2843, 2: 0.273, 3: 0.2832, 4: 0.286}\n",
      "Recall@K: {0: 0.1038, 1: 0.0987, 2: 0.0947, 3: 0.0989, 4: 0.0995}\n",
      "\n",
      "Average MAP: 0.05432\n",
      "Average NDCG: 0.30060000000000003\n",
      "Average Precision@K: 0.28382\n",
      "Average Recall@K: 0.09912000000000001\n"
     ]
    }
   ],
   "source": [
    "eval_maps, eval_ndcgs, eval_precisions, eval_recalls = {}, {}, {}, {}\n",
    "\n",
    "## 0 Data\n",
    "\n",
    "data_all_cols = pd.read_csv(DATA_FILE_NAME)\n",
    "data_all_cols = data_all_cols[data_all_cols[\"country\"] == COUNTRY]\n",
    "data = data_all_cols[[\"location_id\", \"product\", \"sl_sold\"]]\n",
    "\n",
    "\n",
    "for index, SEED in enumerate(SEEDS):\n",
    "    print(\"Run \" + str(index + 1) + \" of \" + str(len(SEEDS)))\n",
    "\n",
    "    ## 1 Data Splitting\n",
    "\n",
    "    train, test = python_random_split(data, TRAIN_FRAC, seed = SEED)\n",
    "    train_set = cornac.data.Dataset.from_uir(train.itertuples(index=False), seed = SEED)\n",
    "\n",
    "\n",
    "    ## 2 Training\n",
    "\n",
    "    bpr = cornac.models.BPR(\n",
    "        k=NUM_FACTORS,\n",
    "        max_iter=NUM_EPOCHS,\n",
    "        learning_rate=LEARNING_RATE,\n",
    "        lambda_reg=LAMBDA_REG,\n",
    "        verbose=True,\n",
    "        seed=SEED\n",
    "    )\n",
    "\n",
    "    with Timer() as t:\n",
    "        bpr.fit(train_set)\n",
    "    print(\"Took {} seconds for training.\".format(t))\n",
    "\n",
    "\n",
    "    ## 3 Prediction\n",
    "\n",
    "    with Timer() as t:\n",
    "        all_predictions = predict_ranking(bpr, train, usercol='location_id', itemcol='product', remove_seen=True)\n",
    "    print(\"Took {} seconds for prediction.\".format(t))\n",
    "\n",
    "\n",
    "    ## 4 Evaluation / Testing\n",
    "\n",
    "    k = TOP_K\n",
    "    eval_maps[SEED] = round(map_at_k(test, all_predictions, col_user='location_id', col_item='product', col_rating='sl_sold', col_prediction='prediction', k=k), 4)\n",
    "    eval_ndcgs[SEED] = round(ndcg_at_k(test, all_predictions, col_user='location_id', col_item='product', col_rating='sl_sold', col_prediction='prediction', k=k), 4)\n",
    "    eval_precisions[SEED] = round(precision_at_k(test, all_predictions, col_user='location_id', col_item='product', col_rating='sl_sold', col_prediction='prediction', k=k), 4)\n",
    "    eval_recalls[SEED] = round(recall_at_k(test, all_predictions, col_user='location_id', col_item='product', col_rating='sl_sold', col_prediction='prediction', k=k), 4)\n",
    "\n",
    "\n",
    "print()\n",
    "print(\"MAP: \" + str(eval_maps),\n",
    "    \"NDCG: \" + str(eval_ndcgs),\n",
    "    \"Precision@K: \" + str(eval_precisions),\n",
    "    \"Recall@K: \" + str(eval_recalls), sep='\\n')\n",
    "print()\n",
    "print(\"Average MAP: \" + str(np.mean(list(eval_maps.values()))),\n",
    "    \"Average NDCG: \" + str(np.mean(list(eval_ndcgs.values()))),\n",
    "    \"Average Precision@K: \" + str(np.mean(list(eval_precisions.values()))),\n",
    "    \"Average Recall@K: \" + str(np.mean(list(eval_recalls.values()))), sep='\\n')"
   ]
  }
 ],
 "metadata": {
  "celltoolbar": "Tags",
  "kernelspec": {
   "display_name": "Python 3 (ipykernel)",
   "language": "python",
   "name": "python3"
  },
  "language_info": {
   "codemirror_mode": {
    "name": "ipython",
    "version": 3
   },
   "file_extension": ".py",
   "mimetype": "text/x-python",
   "name": "python",
   "nbconvert_exporter": "python",
   "pygments_lexer": "ipython3",
   "version": "3.8.17"
  }
 },
 "nbformat": 4,
 "nbformat_minor": 2
}
